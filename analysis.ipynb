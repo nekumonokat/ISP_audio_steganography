{
 "cells": [
  {
   "cell_type": "markdown",
   "id": "da866fed",
   "metadata": {},
   "source": [
    "# Exercise 3: Audio steganography"
   ]
  },
  {
   "cell_type": "code",
   "execution_count": 1,
   "id": "266b8f3b",
   "metadata": {},
   "outputs": [],
   "source": [
    "import numpy as np\n",
    "import matplotlib.pyplot as plt\n",
    "\n",
    "files = [\"sounds/Ex3_sound1.wav\", \"sounds/Ex3_sound2.wav\", \"sounds/Ex3_sound3.wav\", \"sounds/Ex3_sound4.wav\", \"sounds/Ex3_sound5.wav\"]"
   ]
  },
  {
   "cell_type": "markdown",
   "id": "0cff1528",
   "metadata": {},
   "source": [
    "## Task 3.1: Audio analysis\n",
    "Detects which audio file contains suspicious data in an ultrasonic range of frequencies and should be able to play the secret code in an audible range of frequencies. By filtering out ultrasonic frequencies, it was recognised that Ex3_sound1.wav had suspicious detected.\n",
    "\n",
    "To get the secret code, the Least Significant Bits (LSBs) of the audio file's data frames are extracted. They are then grouped into 8-bit chunks that are converted into ASCII characters, extracted and processed until a sentinel character \"#\" is met.\n",
    "\n",
    "By the output, Ex_sound1.wav has a hidden message: \"Mom I will not be home for supper\""
   ]
  },
  {
   "cell_type": "code",
   "execution_count": 2,
   "id": "2574ad39",
   "metadata": {},
   "outputs": [
    {
     "name": "stdout",
     "output_type": "stream",
     "text": [
      "Suspicious signal detected in: sounds/Ex3_sound1.wav\n",
      "demodulated audio saved as sounds/secret_code.wav\n"
     ]
    },
    {
     "data": {
      "image/png": "[encoded data removed]",
      "text/plain": [
       "<Figure size 400x300 with 1 Axes>"
      ]
     },
     "metadata": {},
     "output_type": "display_data"
    }
   ],
   "source": [
    "from scipy.io import wavfile\n",
    "from scipy.signal import hilbert\n",
    "from scipy.signal import butter, filtfilt\n",
    "import soundfile as sf\n",
    "\n",
    "def analyse(file):\n",
    "    sr, data = wavfile.read(file);\n",
    "    # using first channel if stereo\n",
    "    if data.ndim > 1: data = data[:, 0]\n",
    "    # print(\"Sampling rate:\", sr)\n",
    "    # print(\"Audio shape:\", data)\n",
    "    \n",
    "    # perform FFT to display frequency content\n",
    "    n = len(data)\n",
    "    freqs = np.fft.rfftfreq(n, 1/sr)\n",
    "    fft_magnitude = np.abs(np.fft.rfft(data))\n",
    "    \n",
    "    # plot frequency spectrum\n",
    "    plt.figure(figsize = (4, 3))\n",
    "    plt.plot(freqs, fft_magnitude)\n",
    "    # focusing on frequencies up to 25 kHz\n",
    "    plt.xlim(0, 25000)\n",
    "    plt.title(f\"Frequency Spec of {file}\")\n",
    "    plt.xlabel(\"Frequency (Hz)\")\n",
    "    plt.ylabel(\"Amplitude\")\n",
    "    \n",
    "    # finding ultrasonic frequencies (>20 kHz)\n",
    "    ultrasonic_peaks = fft_magnitude[(freqs > 20000) & (freqs < 25000)]\n",
    "    if np.max(ultrasonic_peaks) > np.mean(fft_magnitude) * 10:\n",
    "        print(f\"Suspicious signal detected in: {file}\")\n",
    "        return data, sr, freqs[np.argmax(ultrasonic_peaks) + np.argmax(freqs > 20000)]\n",
    "    return None, None, None\n",
    "\n",
    "# # adding a lowpass filter\n",
    "# def lowpass(signal, sr, cutoff = 20000):\n",
    "#     nyquist = sr / 2\n",
    "#     b, a = butter(4, cutoff / nyquist, btype = \"low\")\n",
    "#     return filtfilt(b, a, signal)\n",
    "\n",
    "# demodulating the signal to tackle amplitude modulation\n",
    "def demodulate(data, sr, carrier_freq):\n",
    "    time = np.arange(len(data)) / sr\n",
    "    # getting the carrier wave\n",
    "    carrier = np.cos(2*np.pi * carrier_freq * time)\n",
    "    # demodulate by multiplication\n",
    "    modedSignal = data * carrier\n",
    "    # getting the analytic signal\n",
    "    demodedSignal = np.real(hilbert(modedSignal))\n",
    "#     # applying lowpass filter\n",
    "#     demodedSignal = lowpass(demodedSignal, sr)\n",
    "    return demodedSignal\n",
    "\n",
    "# save and play demodulated file\n",
    "def saveAndPlay(data, sr, filename):\n",
    "    # normalising data to [-1, 1]\n",
    "    data = data / np.max(np.abs(data))\n",
    "    sf.write(filename, data, sr)\n",
    "    print(f\"demodulated audio saved as {filename}\")\n",
    "    \n",
    "for file in files:\n",
    "    data, sr, carrier_freq = analyse(file)\n",
    "    # if the file is suspicious, run decoding\n",
    "    if data is not None:\n",
    "        demodedSignal = demodulate(data, sr, carrier_freq)\n",
    "        saveAndPlay(demodedSignal, sr, \"sounds/secret_code.wav\")\n",
    "        break"
   ]
  },
  {
   "cell_type": "code",
   "execution_count": 3,
   "id": "5aad5f8f",
   "metadata": {},
   "outputs": [
    {
     "name": "stdout",
     "output_type": "stream",
     "text": [
      "The hidden message: Mom I will not be home for supper\n"
     ]
    }
   ],
   "source": [
    "import wave\n",
    "\n",
    "def extractLSB(filename):\n",
    "    # opening file in read only format\n",
    "    with wave.open(filename, mode = \"rb\") as audio:\n",
    "        # reads all frames of the file and stores it\n",
    "        frameBytes = bytes(audio.readframes(audio.getnframes()))\n",
    "    # extracts least significant bit of each byte\n",
    "    return [frame_byte & 0x1 for frame_byte in frameBytes]\n",
    "\n",
    "# converts every 8 bits to a character\n",
    "def merge_8Bits_to_Char(bits8):\n",
    "    # convert list of 8 bits to binary string - \"0b\" prefix\n",
    "    binStr = \"0b\" + \"\".join(map(str, bits8))\n",
    "    # use eval() to evaluate binary string and convert it to an integer\n",
    "    # convert integer to its ASCII character\n",
    "    return chr(eval(binStr))\n",
    "\n",
    "# takes least significant bits and converts into characters\n",
    "def LSB_Bytes_to_Chars(LSBBytes):\n",
    "    chars = []\n",
    "    # takes every group of 8 bits to convert into a character\n",
    "    for bits8 in [LSBBytes[i: i+8] for i in range(0, len(LSBBytes), 8)]:\n",
    "        currChar = merge_8Bits_to_Char(bits8)\n",
    "        if currChar != '#': chars.append(currChar)\n",
    "        # stops when it encounters \"#\", a sentinel character\n",
    "        else: break\n",
    "    return chars\n",
    "\n",
    "def decodeFile(filename):\n",
    "    # extracts LSBs of the file\n",
    "    bytesExtracted = extractLSB(filename)\n",
    "    # converts LSBs to characters\n",
    "    charsExtracted = LSB_Bytes_to_Chars(bytesExtracted)    \n",
    "    return \"\".join(charsExtracted)\n",
    "\n",
    "# testing if it works\n",
    "hiddenText = decodeFile(\"sounds/Ex3_sound1.wav\")\n",
    "print(f\"The hidden message: {hiddenText}\")"
   ]
  },
  {
   "cell_type": "code",
   "execution_count": 4,
   "id": "901110cc",
   "metadata": {
    "scrolled": false
   },
   "outputs": [
    {
     "name": "stdout",
     "output_type": "stream",
     "text": [
      "Suspicious signal detected in: sounds/Ex3_sound1.wav\n",
      "demodulated audio saved as sounds/secret_code.wav\n",
      "The hidden message: ÔÖþ³ø¹LZO\u0011iEGy{Ö¹ñ~Þv=ÝxÛ\n"
     ]
    },
    {
     "data": {
      "image/png": "[encoded data removed]",
      "text/plain": [
       "<Figure size 400x300 with 1 Axes>"
      ]
     },
     "metadata": {},
     "output_type": "display_data"
    }
   ],
   "source": [
    "for file in files:\n",
    "    data, sr, carrier_freq = analyse(file)\n",
    "    # if the file is suspicious, run decoding\n",
    "    if data is not None:\n",
    "        demodedSignal = demodulate(data, sr, carrier_freq)\n",
    "        saveAndPlay(demodedSignal, sr, \"sounds/secret_code.wav\")\n",
    "        hiddenText = decodeFile(\"sounds/secret_code.wav\")\n",
    "        print(f\"The hidden message: {hiddenText}\")\n",
    "        break"
   ]
  },
  {
   "cell_type": "markdown",
   "id": "fb396a6b",
   "metadata": {},
   "source": [
    "## Task 3.2: Embedding hidden messages\n"
   ]
  },
  {
   "cell_type": "code",
   "execution_count": 1,
   "id": "55e2410d",
   "metadata": {},
   "outputs": [
    {
     "name": "stdout",
     "output_type": "stream",
     "text": [
      "Message embedded in sounds/Ex3_sound5_stego.wav\n"
     ]
    }
   ],
   "source": [
    "import wave\n",
    "import random\n",
    "\n",
    "def embedMessage(filename, outputFilename, message, num_lsb = 2, seed = 28):\n",
    "    # opening audio file in read mode\n",
    "    with wave.open(filename, \"rb\") as audio:\n",
    "        # getting audio parameters\n",
    "        params = audio.getparams()\n",
    "        # converting audio frames into byte array\n",
    "        frameBytes = bytearray(list(audio.readframes(audio.getnframes())))\n",
    "\n",
    "    # converting message to binary\n",
    "    message += \"#\"  # adding sentinel character to indicate the end\n",
    "    ascii_vals = [ord(char) for char in message] # converting each char in msg to ASCII\n",
    "    bin_strs = [f\"{val:08b}\" for val in ascii_vals] # converting each ASCII to 8-bit binStr\n",
    "    message_bits = ''.join(bin_strs)\n",
    "\n",
    "    # generating random position to embed message\n",
    "    random.seed(seed)\n",
    "    indices = random.sample(range(len(frameBytes)), len(message_bits))\n",
    "\n",
    "    # embedding the message\n",
    "    for i, bit in enumerate(message_bits):\n",
    "        # embedding a bit of msg to LSBs\n",
    "        # 1. calculate mask to clear LSBs\n",
    "        mask = ~((1 << num_lsb) - 1)\n",
    "        # 2. apply mask to clear LSBs of current byte\n",
    "        cleared_byte = frameBytes[indices[i]] & mask\n",
    "        # 3. convert curr bit to integer, place in LSB position (use bitwise OR)\n",
    "        frameBytes[indices[i]] = (cleared_byte) | int(bit)\n",
    "\n",
    "    # writing modified frames to output file\n",
    "    with wave.open(outputFilename, \"wb\") as output:\n",
    "        output.setparams(params)\n",
    "        output.writeframes(bytes(frameBytes))\n",
    "\n",
    "    print(f\"Message embedded in {outputFilename}\")\n",
    "\n",
    "# testing the code\n",
    "filename = \"sounds/Ex3_sound5.wav\"\n",
    "outputFilename = \"sounds/Ex3_sound5_stego.wav\"\n",
    "message = \"An eye for an eye makes the whole world blind\"\n",
    "\n",
    "# embedding message\n",
    "embedMessage(filename, outputFilename, message)"
   ]
  },
  {
   "cell_type": "code",
   "execution_count": 2,
   "id": "4d206eaf",
   "metadata": {},
   "outputs": [
    {
     "name": "stdout",
     "output_type": "stream",
     "text": [
      "Extracted message: An eye for an eye makes the whole world blind\n"
     ]
    }
   ],
   "source": [
    "def extractMsg(filename, num_lsb = 2, seed = 28):\n",
    "    # opening audio file in read mode\n",
    "    with wave.open(filename, \"rb\") as audio:\n",
    "        # converting audio frames into byte array\n",
    "        frameBytes = bytearray(list(audio.readframes(audio.getnframes())))\n",
    "\n",
    "    # generating random position to extract message\n",
    "    random.seed(seed)\n",
    "    indices = random.sample(range(len(frameBytes)), len(frameBytes))\n",
    "\n",
    "    # extracting message bits (similar to embedding)\n",
    "    extracted_bits = [(frameBytes[i] & ((1 << num_lsb) - 1)) for i in indices]\n",
    "\n",
    "    # grouping bits into bytes and decoding the message\n",
    "    message = \"\"\n",
    "    for i in range(0, len(extracted_bits), 8):\n",
    "        byte = extracted_bits[i:i+8]\n",
    "        char = chr(int(''.join(map(str, byte)), 2))\n",
    "        if char == \"#\":  # Stop at the sentinel\n",
    "            break\n",
    "        message += char\n",
    "\n",
    "    return message\n",
    "\n",
    "# extracting message\n",
    "extracted_message = extractMsg(outputFilename)\n",
    "print(f\"Extracted message: {extracted_message}\")"
   ]
  },
  {
   "cell_type": "markdown",
   "id": "3e5f96cf",
   "metadata": {},
   "source": [
    "## Task 3.3: Further investigation of SOTA audio steganographic approach"
   ]
  }
 ],
 "metadata": {
  "kernelspec": {
   "display_name": "Python 3 (ipykernel)",
   "language": "python",
   "name": "python3"
  },
  "language_info": {
   "codemirror_mode": {
    "name": "ipython",
    "version": 3
   },
   "file_extension": ".py",
   "mimetype": "text/x-python",
   "name": "python",
   "nbconvert_exporter": "python",
   "pygments_lexer": "ipython3",
   "version": "3.11.4"
  }
 },
 "nbformat": 4,
 "nbformat_minor": 5
}
